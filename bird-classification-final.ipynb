{
  "cells": [
    {
      "cell_type": "markdown",
      "metadata": {},
      "source": [
        "# 250 species of birds classification Using the VGG16 Pre-trained Model\n",
        "\n",
        "## Angelos Nikolas\n",
        "\n",
        "### The dataset is available at: https://www.kaggle.com/datasets/gpiosenka/100-bird-species/code"
      ]
    },
    {
      "cell_type": "code",
      "execution_count": 1,
      "metadata": {
        "gather": {
          "logged": 1646265655371
        },
        "jupyter": {
          "outputs_hidden": false,
          "source_hidden": false
        },
        "nteract": {
          "transient": {
            "deleting": false
          }
        }
      },
      "outputs": [],
      "source": [
        "#Importing libraries\n",
        "import random\n",
        "import tensorflow as tf"
      ]
    },
    {
      "cell_type": "code",
      "execution_count": 2,
      "metadata": {
        "gather": {
          "logged": 1646265655448
        },
        "jupyter": {
          "outputs_hidden": false,
          "source_hidden": false
        },
        "nteract": {
          "transient": {
            "deleting": false
          }
        }
      },
      "outputs": [],
      "source": [
        "#Setting seed\n",
        "random.seed(42) "
      ]
    },
    {
      "cell_type": "markdown",
      "metadata": {
        "nteract": {
          "transient": {
            "deleting": false
          }
        }
      },
      "source": [
        "# Processing Data"
      ]
    },
    {
      "cell_type": "code",
      "execution_count": 3,
      "metadata": {
        "gather": {
          "logged": 1646265656365
        }
      },
      "outputs": [
        {
          "name": "stdout",
          "output_type": "stream",
          "text": [
            "Found 35215 images belonging to 250 classes.\n",
            "Found 1250 images belonging to 250 classes.\n",
            "Found 1250 images belonging to 250 classes.\n"
          ]
        }
      ],
      "source": [
        "#Setting up the data and splitting it into training and test sets\n",
        "generator = tf.keras.preprocessing.image.ImageDataGenerator()\n",
        "\n",
        "train = generator.flow_from_directory(\"/home/azureuser/localfiles/birdsdata/train/\", class_mode= 'categorical', batch_size=32, target_size=(130,130))\n",
        "test = generator.flow_from_directory(\"/home/azureuser/localfiles/birdsdata/test/\", class_mode= 'categorical', batch_size=32, target_size=(130,130))\n",
        "valid = generator.flow_from_directory(\"/home/azureuser/localfiles/birdsdata/valid/\", class_mode= 'categorical', batch_size=32, target_size=(130,130))"
      ]
    },
    {
      "cell_type": "markdown",
      "metadata": {
        "nteract": {
          "transient": {
            "deleting": false
          }
        }
      },
      "source": [
        "# Build transfer learning model"
      ]
    },
    {
      "cell_type": "code",
      "execution_count": 4,
      "metadata": {
        "gather": {
          "logged": 1646265656706
        },
        "jupyter": {
          "outputs_hidden": false,
          "source_hidden": false
        },
        "nteract": {
          "transient": {
            "deleting": false
          }
        }
      },
      "outputs": [
        {
          "name": "stdout",
          "output_type": "stream",
          "text": [
            "Model: \"model\"\n",
            "_________________________________________________________________\n",
            "Layer (type)                 Output Shape              Param #   \n",
            "=================================================================\n",
            "input_2 (InputLayer)         [(None, 130, 130, 3)]     0         \n",
            "_________________________________________________________________\n",
            "vgg16 (Model)                (None, 4, 4, 512)         14714688  \n",
            "_________________________________________________________________\n",
            "global_max_pooling2d (Global (None, 512)               0         \n",
            "_________________________________________________________________\n",
            "dense (Dense)                (None, 250)               128250    \n",
            "=================================================================\n",
            "Total params: 14,842,938\n",
            "Trainable params: 128,250\n",
            "Non-trainable params: 14,714,688\n",
            "_________________________________________________________________\n"
          ]
        }
      ],
      "source": [
        "from tensorflow.keras.applications.vgg16 import VGG16\n",
        "\n",
        "base_model = VGG16(\n",
        "    weights='imagenet',  \n",
        "    input_shape=(130, 130, 3),\n",
        "    include_top=False) \n",
        "\n",
        "# freezing the model\n",
        "base_model.trainable = False\n",
        "# Specifying the input shape\n",
        "inputs = tf.keras.Input(shape=(130, 130, 3))\n",
        "\n",
        "x = base_model(inputs, training=False)\n",
        "\n",
        "x = tf.keras.layers.GlobalMaxPooling2D()(x)\n",
        "# Output layer is set to 250 for the classification of the 250 bird classes\n",
        "outputs = tf.keras.layers.Dense(250, activation='softmax')(x)\n",
        "\n",
        "model = tf.keras.Model(inputs, outputs)\n",
        "\n",
        "model.compile(optimizer= tf.keras.optimizers.Adam(),\n",
        "              loss= tf.keras.losses.CategoricalCrossentropy(),\n",
        "              metrics=[tf.keras.metrics.CategoricalAccuracy(),\n",
        "                       tf.keras.metrics.Precision(),\n",
        "                       tf.keras.metrics.Recall()])\n",
        "\n",
        "model.summary()"
      ]
    },
    {
      "cell_type": "markdown",
      "metadata": {},
      "source": [
        "# Fitting the model"
      ]
    },
    {
      "cell_type": "code",
      "execution_count": 5,
      "metadata": {
        "gather": {
          "logged": 1646270542392
        },
        "jupyter": {
          "outputs_hidden": false,
          "source_hidden": false
        },
        "nteract": {
          "transient": {
            "deleting": false
          }
        }
      },
      "outputs": [
        {
          "name": "stdout",
          "output_type": "stream",
          "text": [
            "Epoch 1/5\n",
            "1101/1101 [==============================] - 979s 890ms/step - loss: 34.7376 - categorical_accuracy: 0.3435 - precision: 0.3453 - recall: 0.3431 - val_loss: 13.5781 - val_categorical_accuracy: 0.6416 - val_precision: 0.6426 - val_recall: 0.6416\b\b\b\b\b\b\b\b\b\b\b\b\b\b\b\b\b\b\b\b\b\b\b\b\b\b\b\b\b\b\b\b\b\b\b\b\n",
            "Epoch 2/5\n",
            "1101/1101 [==============================] - 976s 886ms/step - loss: 12.2163 - categorical_accuracy: 0.6398 - precision: 0.6410 - recall: 0.6390 - val_loss: 11.9984 - val_categorical_accuracy: 0.7112 - val_precision: 0.7118 - val_recall: 0.7112\b\b\b\b\b\b\b\b\b\b\b\b\b\b\b\b\b\b\b\b\b\b\b\b\b\b\b\b\b\b\b\b\b\b\n",
            "Epoch 3/5\n",
            "1101/1101 [==============================] - 977s 887ms/step - loss: 8.4831 - categorical_accuracy: 0.7237 - precision: 0.7247 - recall: 0.7234 - val_loss: 9.1404 - val_categorical_accuracy: 0.7544 - val_precision: 0.7550 - val_recall: 0.7544\b\b\b\b\b\b\b\b\b\b\b\b\b\b\b\b\b\b\b\b\b\b\b\b\b\b\b\b\b\b\b\b\b\b\b\b\n",
            "Epoch 4/5\n",
            "1101/1101 [==============================] - 976s 887ms/step - loss: 6.6467 - categorical_accuracy: 0.7683 - precision: 0.7693 - recall: 0.7681 - val_loss: 9.5475 - val_categorical_accuracy: 0.7536 - val_precision: 0.7548 - val_recall: 0.7536\b\b\b\b\b\b\b\b\b\b\b\b\b\b\b\b\b\b\b\b\b\b\b\b\b\b\b\b\b\b\b\b\b\b\n",
            "Epoch 5/5\n",
            "1101/1101 [==============================] - 972s 883ms/step - loss: 5.6119 - categorical_accuracy: 0.7994 - precision: 0.7999 - recall: 0.7991 - val_loss: 10.3031 - val_categorical_accuracy: 0.7720 - val_precision: 0.7720 - val_recall: 0.7720\b\b\b\b\b\b\b\b\b\b\b\b\b\b\b\b\b\b\b\b\b\b\b\b\b\b\b\b\b\b\b\b\b\n"
          ]
        }
      ],
      "source": [
        "history = model.fit(train, validation_data=valid, epochs=5)"
      ]
    },
    {
      "cell_type": "markdown",
      "metadata": {
        "nteract": {
          "transient": {
            "deleting": false
          }
        }
      },
      "source": [
        "# Fine-Tunning"
      ]
    },
    {
      "cell_type": "code",
      "execution_count": 6,
      "metadata": {
        "gather": {
          "logged": 1646291709669
        },
        "jupyter": {
          "outputs_hidden": false,
          "source_hidden": false
        },
        "nteract": {
          "transient": {
            "deleting": false
          }
        }
      },
      "outputs": [
        {
          "name": "stdout",
          "output_type": "stream",
          "text": [
            "Epoch 1/5\n",
            "1101/1101 [==============================] - 4308s 4s/step - loss: 1.3964 - categorical_accuracy: 0.8583 - val_loss: 1.6334 - val_categorical_accuracy: 0.8384\b\b\b\b\b\b\b\b\b\b\b\b\b\b\b\b\b\b\b\b\b\b\b\b\b\b\b\b\b\b\b\b\b\b\b\b\b\b\b\b\b\b\b\b\b\b\b\b\n",
            "Epoch 2/5\n",
            "1101/1101 [==============================] - 4216s 4s/step - loss: 0.2980 - categorical_accuracy: 0.9372 - val_loss: 1.4038 - val_categorical_accuracy: 0.8520\b\b\b\b\b\b\b\b\b\b\b\b\b\b\b\b\b\b\b\b\b\b\b\b\b\b\b\b\b\b\b\b\b\b\b\b\b\b\b\b\b\b\b\b\b\b\b\b\n",
            "Epoch 3/5\n",
            "1101/1101 [==============================] - 4216s 4s/step - loss: 0.1206 - categorical_accuracy: 0.9695 - val_loss: 1.5720 - val_categorical_accuracy: 0.8560\b\b\b\b\b\b\b\b\b\b\b\b\b\b\b\b\b\b\b\b\b\b\b\b\b\b\b\b\b\b\b\b\b\b\b\b\b\b\b\b\b\b\b\b\b\b\b\b\n",
            "Epoch 4/5\n",
            "1101/1101 [==============================] - 4206s 4s/step - loss: 0.0988 - categorical_accuracy: 0.9737 - val_loss: 1.3884 - val_categorical_accuracy: 0.8672\b\b\b\b\b\b\b\b\b\b\b\b\b\b\b\b\b\b\b\b\b\b\b\b\b\b\b\b\b\b\b\b\b\b\b\b\b\b\b\b\b\b\b\b\b\b\b\b\n",
            "Epoch 5/5\n",
            "1101/1101 [==============================] - 4200s 4s/step - loss: 0.1123 - categorical_accuracy: 0.9706 - val_loss: 1.1338 - val_categorical_accuracy: 0.8624\b\b\b\b\b\b\b\b\b\b\b\b\b\b\b\b\b\b\b\b\b\b\b\b\b\b\b\b\b\b\b\b\b\b\b\b\b\b\b\b\b\b\b\b\b\b\b\b\b\b\b\b\n"
          ]
        },
        {
          "data": {
            "text/plain": [
              "<tensorflow.python.keras.callbacks.History at 0x7f50946b7bb0>"
            ]
          },
          "execution_count": 6,
          "metadata": {},
          "output_type": "execute_result"
        }
      ],
      "source": [
        "# Unfreeze the base model\n",
        "base_model.trainable = True\n",
        "\n",
        "# It's important to recompile your model after you make any changes\n",
        "# to the `trainable` attribute of any inner layer, so that your changes\n",
        "# are take into account\n",
        "model.compile(optimizer=tf.keras.optimizers.Adam(0.00001),  # Very low learning rate\n",
        "              loss=tf.keras.losses.CategoricalCrossentropy(),\n",
        "              metrics=[tf.keras.metrics.CategoricalAccuracy()])\n",
        "\n",
        "# Train end-to-end. Be careful to stop before you overfit!\n",
        "model.fit(train, epochs=5, validation_data=valid)"
      ]
    },
    {
      "cell_type": "code",
      "execution_count": 8,
      "metadata": {
        "gather": {
          "logged": 1646292193787
        },
        "jupyter": {
          "outputs_hidden": false,
          "source_hidden": false
        },
        "nteract": {
          "transient": {
            "deleting": false
          }
        }
      },
      "outputs": [],
      "source": [
        "model.save(\"/home/azureuser/cloudfiles/code/Users/c1044433/Task2/model.h5\")"
      ]
    },
    {
      "cell_type": "markdown",
      "metadata": {
        "nteract": {
          "transient": {
            "deleting": false
          }
        }
      },
      "source": [
        "# Results"
      ]
    },
    {
      "cell_type": "code",
      "execution_count": 9,
      "metadata": {
        "gather": {
          "logged": 1646292239451
        },
        "jupyter": {
          "outputs_hidden": false,
          "source_hidden": false
        },
        "nteract": {
          "transient": {
            "deleting": false
          }
        }
      },
      "outputs": [],
      "source": [
        "import numpy as np\n",
        "\n",
        "y_true = test.labels\n",
        "y_pred = model.predict(test).argmax(axis=1)"
      ]
    },
    {
      "cell_type": "code",
      "execution_count": 10,
      "metadata": {
        "gather": {
          "logged": 1646292281447
        },
        "jupyter": {
          "outputs_hidden": false,
          "source_hidden": false
        },
        "nteract": {
          "transient": {
            "deleting": false
          }
        }
      },
      "outputs": [
        {
          "name": "stdout",
          "output_type": "stream",
          "text": [
            "40/40 [==============================] - 32s 797ms/step - loss: 0.8760 - categorical_accuracy: 0.8912\b\b\b\b\b\b\b\b\b\b\b\b\b\b\b\b\b\b\b\b\b\b\b\b\b\b\b\b\b\b\b\b\b\b\b\b\b\b\b\b\b\b\b\b\b\b\b\b\b\b\b\b\b\b\b\b\b\b\b\b\b\b\b\b\b\b\b\b\b\b\b\b\b\b\b\b\b\b\b\b\b\b\b\b\b\b\b\b\b\n",
            "The testing accuracy is:  0.8912000060081482\n"
          ]
        }
      ],
      "source": [
        "acc_test = model.evaluate(test)[1]\n",
        "print(\"The testing accuracy is: \", acc_test)"
      ]
    },
    {
      "cell_type": "code",
      "execution_count": 13,
      "metadata": {
        "gather": {
          "logged": 1646298518552
        },
        "jupyter": {
          "outputs_hidden": false,
          "source_hidden": false
        },
        "nteract": {
          "transient": {
            "deleting": false
          }
        }
      },
      "outputs": [
        {
          "name": "stdout",
          "output_type": "stream",
          "text": [
            "Requirement already satisfied: seaborn in /anaconda/envs/azureml_py38_PT_TF/lib/python3.8/site-packages (0.11.2)\n",
            "Requirement already satisfied: pandas>=0.23 in /anaconda/envs/azureml_py38_PT_TF/lib/python3.8/site-packages (from seaborn) (1.3.5)\n",
            "Requirement already satisfied: numpy>=1.15 in /anaconda/envs/azureml_py38_PT_TF/lib/python3.8/site-packages (from seaborn) (1.19.5)\n",
            "Requirement already satisfied: matplotlib>=2.2 in /anaconda/envs/azureml_py38_PT_TF/lib/python3.8/site-packages (from seaborn) (3.5.1)\n",
            "Requirement already satisfied: scipy>=1.0 in /home/azureuser/.local/lib/python3.8/site-packages (from seaborn) (1.4.1)\n",
            "Requirement already satisfied: pytz>=2017.3 in /anaconda/envs/azureml_py38_PT_TF/lib/python3.8/site-packages (from pandas>=0.23->seaborn) (2021.3)\n",
            "Requirement already satisfied: python-dateutil>=2.7.3 in /anaconda/envs/azureml_py38_PT_TF/lib/python3.8/site-packages (from pandas>=0.23->seaborn) (2.8.2)\n",
            "Requirement already satisfied: fonttools>=4.22.0 in /anaconda/envs/azureml_py38_PT_TF/lib/python3.8/site-packages (from matplotlib>=2.2->seaborn) (4.28.5)\n",
            "Requirement already satisfied: kiwisolver>=1.0.1 in /anaconda/envs/azureml_py38_PT_TF/lib/python3.8/site-packages (from matplotlib>=2.2->seaborn) (1.3.2)\n",
            "Requirement already satisfied: cycler>=0.10 in /anaconda/envs/azureml_py38_PT_TF/lib/python3.8/site-packages (from matplotlib>=2.2->seaborn) (0.11.0)\n",
            "Requirement already satisfied: packaging>=20.0 in /anaconda/envs/azureml_py38_PT_TF/lib/python3.8/site-packages (from matplotlib>=2.2->seaborn) (21.3)\n",
            "Requirement already satisfied: pillow>=6.2.0 in /anaconda/envs/azureml_py38_PT_TF/lib/python3.8/site-packages (from matplotlib>=2.2->seaborn) (8.4.0)\n",
            "Requirement already satisfied: pyparsing>=2.2.1 in /anaconda/envs/azureml_py38_PT_TF/lib/python3.8/site-packages (from matplotlib>=2.2->seaborn) (3.0.6)\n",
            "Requirement already satisfied: six>=1.5 in /anaconda/envs/azureml_py38_PT_TF/lib/python3.8/site-packages (from python-dateutil>=2.7.3->pandas>=0.23->seaborn) (1.16.0)\n",
            "Note: you may need to restart the kernel to use updated packages.\n"
          ]
        },
        {
          "data": {
            "image/png": "[encoded data removed]",
            "text/plain": [
              "<Figure size 432x288 with 2 Axes>"
            ]
          },
          "metadata": {
            "needs_background": "light"
          },
          "output_type": "display_data"
        }
      ],
      "source": [
        "from sklearn.metrics import confusion_matrix\n",
        "%pip install seaborn\n",
        "import seaborn as sns\n",
        "\n",
        "conf = confusion_matrix(y_true=y_true, y_pred=y_pred)\n",
        "\n",
        "conf_plt = sns.heatmap(conf, fmt='', cmap='Blues_r')"
      ]
    }
  ],
  "metadata": {
    "kernel_info": {
      "name": "azureml_py38_pt_tf"
    },
    "kernelspec": {
      "display_name": "Python 3.8 - Pytorch and Tensorflow",
      "language": "python",
      "name": "azureml_py38_pt_tf"
    },
    "language_info": {
      "codemirror_mode": {
        "name": "ipython",
        "version": 3
      },
      "file_extension": ".py",
      "mimetype": "text/x-python",
      "name": "python",
      "nbconvert_exporter": "python",
      "pygments_lexer": "ipython3",
      "version": "3.8.1"
    },
    "microsoft": {
      "host": {
        "AzureML": {
          "notebookHasBeenCompleted": true
        }
      }
    },
    "nteract": {
      "version": "nteract-front-end@1.0.0"
    }
  },
  "nbformat": 4,
  "nbformat_minor": 2
}
